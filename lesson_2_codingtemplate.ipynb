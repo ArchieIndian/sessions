{
 "cells": [
  {
   "cell_type": "markdown",
   "metadata": {},
   "source": [
    "## Multi-label classification"
   ]
  },
  {
   "cell_type": "markdown",
   "metadata": {},
   "source": [
    "Multi-label classification describes the situation where each image belongs in more than one class. This type of classification problem is a little closer to the complex image processing we'd probably like to be able to do. :-)"
   ]
  },
  {
   "cell_type": "markdown",
   "metadata": {},
   "source": [
    "### Set up our environment"
   ]
  },
  {
   "cell_type": "code",
   "execution_count": null,
   "metadata": {},
   "outputs": [],
   "source": [
    "%reload_ext autoreload\n",
    "%autoreload 2\n",
    "%matplotlib inline"
   ]
  },
  {
   "cell_type": "code",
   "execution_count": null,
   "metadata": {},
   "outputs": [],
   "source": [
    "#fastai imports\n",
    "from fastai.conv_learner import *\n",
    "from fastai.plots import *"
   ]
  },
  {
   "cell_type": "markdown",
   "metadata": {},
   "source": [
    "**Identify our dataset**\n",
    "\n",
    "Can you train your network on the Kaggle planet data competition? Absolutely!\n",
    "\n",
    "However, you'll find that you learn more and enjoy your learning more if you use datasets that are interesting to you, datasets that you can get excited about!\n",
    "\n",
    "Do you consider yourself a foodie? The [Yelp](https://www.kaggle.com/c/yelp-restaurant-photo-classification/data) contest dataset might be fun to play with.\n",
    "\n",
    "Are you interested in image processing traffic information for self-driving cars? The [LISA traffic sign dataset](http://cvrr.ucsd.edu/LISA/lisa-traffic-sign-dataset.html) might be interesting.\n",
    "\n"
   ]
  },
  {
   "cell_type": "markdown",
   "metadata": {},
   "source": [
    "**Set up our data for training**\n",
    "\n",
    "For single-label classification, we organized images into folders, and the folder names provided our labels.\n",
    "\n",
    "For multi-label classification, we're going to put all of our images in the same folder, and we'll get our labels from a csv file. The csv file has two columns: image name, image labels (image labels is a space-delimited list)."
   ]
  },
  {
   "cell_type": "code",
   "execution_count": null,
   "metadata": {},
   "outputs": [],
   "source": [
    "PATH = 'data/YOUR DATA FOLDER/'"
   ]
  },
  {
   "cell_type": "code",
   "execution_count": null,
   "metadata": {},
   "outputs": [],
   "source": [
    "#display a list of the folders that are in your data path\n",
    "\n",
    "#YOUR CODE HERE\n",
    "\n",
    "#expected result: test-jpg/  train-jpg/ <YOUR LABELS FILE>.csv (other folders are permissible, these are required)"
   ]
  },
  {
   "cell_type": "code",
   "execution_count": null,
   "metadata": {},
   "outputs": [],
   "source": [
    "\n",
    "#set the path to our labels file\n",
    "label_csv = f'{PATH}YOUR LABELS FILE.csv'"
   ]
  },
  {
   "cell_type": "markdown",
   "metadata": {
    "heading_collapsed": true
   },
   "source": [
    "## Multi-label versus single-label classification"
   ]
  },
  {
   "cell_type": "code",
   "execution_count": null,
   "metadata": {
    "hidden": true
   },
   "outputs": [],
   "source": [
    "#create a handy function that retrieves the\n",
    "#first file from a given path\n",
    "def get_1st(path:str): \n",
    "    #YOUR CODE HERE\n",
    "    \n",
    "    return #first filename"
   ]
  },
  {
   "cell_type": "markdown",
   "metadata": {},
   "source": [
    "### Single-label"
   ]
  },
  {
   "cell_type": "markdown",
   "metadata": {},
   "source": [
    "Using your single-label dataset from Lesson 1, display the first image associated with each label"
   ]
  },
  {
   "cell_type": "code",
   "execution_count": null,
   "metadata": {
    "hidden": true
   },
   "outputs": [],
   "source": [
    "dc_path = \"data/YOUR DATA PATH/\"\n",
    "dc_labels=[\"your_label_1\",\"your_label_2\"]\n",
    "\n",
    "#populate the variable list_paths with the 1st file in each of your labeled folders \n",
    "list_paths = []\n",
    "\n",
    "#display each of the images in the list paths array\n",
    "plots_from_files(list_paths, titles=dc_labels, maintitle=\"Single-label classification\")"
   ]
  },
  {
   "cell_type": "markdown",
   "metadata": {
    "hidden": true
   },
   "source": [
    "In single-label classification each sample belongs to one class. For instance, in the dogs vs cat example, each image is either a *dog* or a *cat*."
   ]
  },
  {
   "cell_type": "markdown",
   "metadata": {},
   "source": [
    "### Multi-label"
   ]
  },
  {
   "cell_type": "markdown",
   "metadata": {},
   "source": [
    "Use this week's multi-label dataset to display 2 images and their labels. We're not doing any code-based lookup here, just hardcoding image values."
   ]
  },
  {
   "cell_type": "code",
   "execution_count": null,
   "metadata": {
    "hidden": true,
    "scrolled": false
   },
   "outputs": [],
   "source": [
    "list_paths = [f\"{PATH}train-jpg/YOURIMAGENAME_0.jpg\", f\"{PATH}train-jpg/YOURIMAGENAME_1.jpg\"]\n",
    "titles=[\"YOUR LABELS FOR IMAGE 0\", \"YOUR LABELS FOR IMAGE 1\"]\n",
    "plots_from_files(list_paths, titles=titles, maintitle=\"Multi-label classification\")"
   ]
  },
  {
   "cell_type": "markdown",
   "metadata": {
    "hidden": true
   },
   "source": [
    "In multi-label classification each sample can belong to one or more clases. In the previous example, the first images belongs to two clases: *haze* and *primary*. The second image belongs to four clases: *agriculture*, *clear*, *primary* and  *water*."
   ]
  },
  {
   "cell_type": "markdown",
   "metadata": {},
   "source": [
    "## Multi-label models for our dataset"
   ]
  },
  {
   "cell_type": "markdown",
   "metadata": {},
   "source": [
    "You might find these references handy when coding your own network:\n",
    "- ImageClassifierData object defined in [fastai/dataset.py](https://github.com/fastai/fastai/blob/master/fastai/dataset.py). We'll access functions like resize() through this object."
   ]
  },
  {
   "cell_type": "code",
   "execution_count": null,
   "metadata": {},
   "outputs": [],
   "source": [
    "#This is the import statement from the planet dataset...\n",
    "#from planet import f2\n",
    "#of course, if you're not working with the planet dataset,\n",
    "#you'll need to do something different here. What should you do?\n",
    "\n",
    "#define our metrics and f_model variables\n",
    "\n",
    "#YOUR CODE HERE\n"
   ]
  },
  {
   "cell_type": "code",
   "execution_count": null,
   "metadata": {},
   "outputs": [],
   "source": [
    "#when we augment our data, we'll need some new ids, so lets get them\n",
    "def get_labels_from_path(path):\n",
    "    ids=[]\n",
    "    #YOUR CODE HERE. \n",
    "    #Hint: once we know the size of our un-augmented dataset,\n",
    "    #   there is a fastai function we can call\n",
    "    #   Note that the fast.ai function does not\n",
    "    #   return the same number of new ids as we provide\n",
    "    return ids\n",
    "                         \n",
    "\n",
    "val_idxs = get_labels_from_path(label_csv)"
   ]
  },
  {
   "cell_type": "markdown",
   "metadata": {},
   "source": [
    "## Transforming our dataset"
   ]
  },
  {
   "cell_type": "markdown",
   "metadata": {},
   "source": [
    "We use a different set of data augmentations for this dataset - we also allow vertical flips, since we don't expect vertical orientation of satellite images to change our classifications."
   ]
  },
  {
   "cell_type": "code",
   "execution_count": null,
   "metadata": {},
   "outputs": [],
   "source": [
    "def get_transforms(sz):\n",
    "    #YOUR CODE HERE\n",
    "    #Hint: there's a fastai function that we can call \n",
    "    return tfms\n",
    "\n",
    "#\n",
    "def get_data(sz)->fastai.dataset.ImageClassifierData:\n",
    "    path=PATH\n",
    "    trainfolder='train-jpg'\n",
    "    label_csv=label_csv\n",
    "    suffix='.jpg'\n",
    "    val_idxs=val_idxs\n",
    "    testfolder='test-jpg'\n",
    "    fmodel=fmodel\n",
    "    \n",
    "    #YOUR CODE HERE (Hint: tfms_from_model and ImageClassifierData.from_csv might come in handy)\n",
    "    \n",
    "    return"
   ]
  },
  {
   "cell_type": "code",
   "execution_count": null,
   "metadata": {},
   "outputs": [],
   "source": [
    "transforms = get_data(256)\n",
    "#get the fastai.dataset.ImageClassifierData object for the transforms from our label_csv\n",
    "data=#YOUR CODE HERE"
   ]
  },
  {
   "cell_type": "code",
   "execution_count": null,
   "metadata": {},
   "outputs": [],
   "source": [
    "#take a peek at our data\n",
    "x,y = next(iter(data.val_dl))"
   ]
  },
  {
   "cell_type": "code",
   "execution_count": null,
   "metadata": {},
   "outputs": [],
   "source": [
    "y"
   ]
  },
  {
   "cell_type": "markdown",
   "metadata": {},
   "source": [
    "This code lets us look at the map between our values and the first row in the y vector\n",
    "The python [zip](https://docs.python.org/3.3/library/functions.html#zip) function is commonly used in data manipulation, but notice that we're getting our labels from that ImageClassifierData object's 'classes' property."
   ]
  },
  {
   "cell_type": "code",
   "execution_count": null,
   "metadata": {},
   "outputs": [],
   "source": [
    "list(zip(data.classes, y[0]))"
   ]
  },
  {
   "cell_type": "markdown",
   "metadata": {},
   "source": [
    "Be sure that you understand what this code is doing!"
   ]
  },
  {
   "cell_type": "code",
   "execution_count": null,
   "metadata": {},
   "outputs": [],
   "source": [
    "plt.imshow(data.val_ds.denorm(to_np(x))[0]*1.4);"
   ]
  },
  {
   "cell_type": "markdown",
   "metadata": {},
   "source": [
    "Now let's transform some of our data by resizing it"
   ]
  },
  {
   "cell_type": "code",
   "execution_count": null,
   "metadata": {},
   "outputs": [],
   "source": [
    "sz=64 #this is the value used by Jeremy"
   ]
  },
  {
   "cell_type": "code",
   "execution_count": null,
   "metadata": {},
   "outputs": [],
   "source": [
    "data = get_data(sz)"
   ]
  },
  {
   "cell_type": "code",
   "execution_count": null,
   "metadata": {},
   "outputs": [],
   "source": [
    "multiplier=1.3 #this is the value used by Jeremy\n",
    "newsize=int(sz*multiplier)\n",
    "tempfolder='tmp'"
   ]
  },
  {
   "cell_type": "code",
   "execution_count": null,
   "metadata": {},
   "outputs": [],
   "source": [
    "data = #YOUR CODE HERE"
   ]
  },
  {
   "cell_type": "markdown",
   "metadata": {},
   "source": [
    "## Training our model"
   ]
  },
  {
   "cell_type": "markdown",
   "metadata": {},
   "source": [
    "Instantiate the learn variable with a pre-trained model"
   ]
  },
  {
   "cell_type": "code",
   "execution_count": null,
   "metadata": {},
   "outputs": [],
   "source": [
    "learn = #YOUR CODE HERE (hint: learn will be a fastai.conv_learner.ConvLearner object)"
   ]
  },
  {
   "cell_type": "markdown",
   "metadata": {},
   "source": [
    "Let's see what the pretrained model can tell us about it's learning rate"
   ]
  },
  {
   "cell_type": "code",
   "execution_count": null,
   "metadata": {},
   "outputs": [],
   "source": [
    "lrf=learn.lr_find()\n",
    "learn.sched.plot()"
   ]
  },
  {
   "cell_type": "markdown",
   "metadata": {},
   "source": [
    "We're going to hard code a learning rate based on the results we see above.\n",
    "\n",
    "Something to think about...would it be handy to have a function that sets the learning rate for us? Can you code that function?"
   ]
  },
  {
   "cell_type": "code",
   "execution_count": null,
   "metadata": {},
   "outputs": [],
   "source": [
    "learningrate = #hard code this value based on what the learn object told us"
   ]
  },
  {
   "cell_type": "markdown",
   "metadata": {},
   "source": [
    "Hooray! We're ready to do our first pass at training!!! "
   ]
  },
  {
   "cell_type": "code",
   "execution_count": null,
   "metadata": {},
   "outputs": [],
   "source": [
    "#YOUR CODE HERE (hint: 'fit' is most common function call for training python machine learning models)"
   ]
  },
  {
   "cell_type": "code",
   "execution_count": null,
   "metadata": {},
   "outputs": [],
   "source": [
    "learningrates = np.array([learningrate/9,learningrate/3,learningrate])"
   ]
  },
  {
   "cell_type": "markdown",
   "metadata": {},
   "source": [
    "Now, let's use the learning rates array to add to our training"
   ]
  },
  {
   "cell_type": "code",
   "execution_count": null,
   "metadata": {},
   "outputs": [],
   "source": [
    "#YOUR CODE HERE (hint: at this point, our training is 'frozen'...but we can unfreeze it!)"
   ]
  },
  {
   "cell_type": "markdown",
   "metadata": {},
   "source": [
    "Hooray, we have a trained model! Let's save it!"
   ]
  },
  {
   "cell_type": "code",
   "execution_count": null,
   "metadata": {},
   "outputs": [],
   "source": [
    "learn.save(f'{sz}')"
   ]
  },
  {
   "cell_type": "code",
   "execution_count": null,
   "metadata": {},
   "outputs": [],
   "source": [
    "learn.sched.plot_loss()"
   ]
  },
  {
   "cell_type": "markdown",
   "metadata": {},
   "source": [
    "We need a function that takes a ConvLearner object, a data size, a learning rate, and a learning rate array. The function should perform the following tasks on the learner object:\n",
    "- set the model data to a ImageClassifierData created with the given data size (hint: we have a get_data function)\n",
    "- use the given learning rate to train the ConvLearner object\n",
    "- use the given learning rate array to train the ConvLearner object\n",
    "- save the ConvLearner object\n",
    "\n",
    "The function should return the updated ConvLearner object.\n",
    "\n",
    "Hint: don't forget about freezing and unfreezing!"
   ]
  },
  {
   "cell_type": "code",
   "execution_count": null,
   "metadata": {},
   "outputs": [],
   "source": [
    "def update_learner(learner,sz,lr,lrs):\n",
    "    #YOUR CODE HERE\n",
    "    return learner"
   ]
  },
  {
   "cell_type": "code",
   "execution_count": null,
   "metadata": {},
   "outputs": [],
   "source": [
    "sz=128\n",
    "update_learner(learn,sz,learningrate,learningrates)"
   ]
  },
  {
   "cell_type": "code",
   "execution_count": null,
   "metadata": {},
   "outputs": [],
   "source": [
    "sz=256\n",
    "update_learner(learn,sz,learningrate,learningrates)"
   ]
  },
  {
   "cell_type": "markdown",
   "metadata": {},
   "source": [
    "Let's take a look at what our model has learned"
   ]
  },
  {
   "cell_type": "code",
   "execution_count": null,
   "metadata": {},
   "outputs": [],
   "source": [
    "multi_preds, y = learn.TTA()\n",
    "preds = np.mean(multi_preds, 0)"
   ]
  },
  {
   "cell_type": "markdown",
   "metadata": {},
   "source": [
    "Remember way back at the beginning when we decided what to do to replace the planet import?  We're finally going to call the f2 function!"
   ]
  },
  {
   "cell_type": "code",
   "execution_count": null,
   "metadata": {},
   "outputs": [],
   "source": [
    "f2(preds,y)"
   ]
  },
  {
   "cell_type": "markdown",
   "metadata": {
    "collapsed": true
   },
   "source": [
    "### End"
   ]
  }
 ],
 "metadata": {
  "kernelspec": {
   "display_name": "Python 3",
   "language": "python",
   "name": "python3"
  },
  "language_info": {
   "codemirror_mode": {
    "name": "ipython",
    "version": 3
   },
   "file_extension": ".py",
   "mimetype": "text/x-python",
   "name": "python",
   "nbconvert_exporter": "python",
   "pygments_lexer": "ipython3",
   "version": "3.6.2"
  },
  "toc": {
   "colors": {
    "hover_highlight": "#DAA520",
    "navigate_num": "#000000",
    "navigate_text": "#333333",
    "running_highlight": "#FF0000",
    "selected_highlight": "#FFD700",
    "sidebar_border": "#EEEEEE",
    "wrapper_background": "#FFFFFF"
   },
   "moveMenuLeft": true,
   "nav_menu": {
    "height": "99px",
    "width": "252px"
   },
   "navigate_menu": true,
   "number_sections": true,
   "sideBar": true,
   "threshold": 4,
   "toc_cell": false,
   "toc_section_display": "block",
   "toc_window_display": false,
   "widenNotebook": false
  }
 },
 "nbformat": 4,
 "nbformat_minor": 1
}
